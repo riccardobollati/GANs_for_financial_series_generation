{
 "cells": [
  {
   "cell_type": "markdown",
   "metadata": {},
   "source": [
    "# Download and generate the returns data base"
   ]
  },
  {
   "cell_type": "markdown",
   "metadata": {},
   "source": [
    "<h2>Import libraires</h2>"
   ]
  },
  {
   "cell_type": "code",
   "execution_count": 2,
   "metadata": {},
   "outputs": [
    {
     "name": "stderr",
     "output_type": "stream",
     "text": [
      "c:\\Users\\bolla\\miniconda3\\envs\\torch_env\\lib\\site-packages\\tqdm\\auto.py:22: TqdmWarning: IProgress not found. Please update jupyter and ipywidgets. See https://ipywidgets.readthedocs.io/en/stable/user_install.html\n",
      "  from .autonotebook import tqdm as notebook_tqdm\n"
     ]
    }
   ],
   "source": [
    "import data_preprocessing as data_prep\n",
    "import os\n",
    "from tqdm import tqdm"
   ]
  },
  {
   "cell_type": "markdown",
   "metadata": {},
   "source": [
    "<h2>Download the data and create the window dataset</h2>"
   ]
  },
  {
   "cell_type": "markdown",
   "metadata": {},
   "source": [
    "the following code download all the time series of the stocks contained in the csv file passed"
   ]
  },
  {
   "cell_type": "code",
   "execution_count": 4,
   "metadata": {},
   "outputs": [
    {
     "name": "stderr",
     "output_type": "stream",
     "text": [
      "100%|██████████| 118/118 [00:19<00:00,  6.01it/s]\n"
     ]
    }
   ],
   "source": [
    "#download data and create the dataset\n",
    "# the first argument is the list that contains all the stocks to download\n",
    "# the second argument is the folder where the function will store the series\n",
    "data_prep.get_data('value_st.csv','series_value')"
   ]
  },
  {
   "cell_type": "markdown",
   "metadata": {},
   "source": [
    "the following code create the dataset of the windows, It can generate both price and returns window."
   ]
  },
  {
   "cell_type": "code",
   "execution_count": null,
   "metadata": {},
   "outputs": [],
   "source": [
    "data_prep.create_windows_df('series',100, 'dataset_price')"
   ]
  },
  {
   "cell_type": "markdown",
   "metadata": {},
   "source": [
    "# Clear the dataset "
   ]
  },
  {
   "cell_type": "markdown",
   "metadata": {},
   "source": [
    "The following chunk of code prevent the dataset to contain series with different window lenght then the one chosen.\n",
    "\n",
    "To do it It deletes all the windows with len < chosen window from the selected folder."
   ]
  },
  {
   "cell_type": "code",
   "execution_count": 7,
   "metadata": {},
   "outputs": [
    {
     "name": "stderr",
     "output_type": "stream",
     "text": [
      "4564it [00:30, 150.65it/s]"
     ]
    },
    {
     "name": "stdout",
     "output_type": "stream",
     "text": [
      "error at it 4545\n"
     ]
    },
    {
     "name": "stderr",
     "output_type": "stream",
     "text": [
      "10357it [01:58, 87.59it/s]\n"
     ]
    }
   ],
   "source": [
    "FOLDER = 'dataset_price'\n",
    "#clear the dataset\n",
    "dataset = data_prep.WindowsDaset(FOLDER)\n",
    "file_list = os.listdir(FOLDER)\n",
    "\n",
    "for ind, ser in tqdm(enumerate(dataset)):\n",
    "    if len(ser) != 100:\n",
    "        print(f'error at it {ind}')\n",
    "        os.remove(os.path.join(FOLDER,file_list[ind]))\n",
    "        file_list.pop(ind)"
   ]
  }
 ],
 "metadata": {
  "kernelspec": {
   "display_name": "Python 3.10.6 ('torch_env')",
   "language": "python",
   "name": "python3"
  },
  "language_info": {
   "codemirror_mode": {
    "name": "ipython",
    "version": 3
   },
   "file_extension": ".py",
   "mimetype": "text/x-python",
   "name": "python",
   "nbconvert_exporter": "python",
   "pygments_lexer": "ipython3",
   "version": "3.10.6"
  },
  "orig_nbformat": 4,
  "vscode": {
   "interpreter": {
    "hash": "61b138a6f7f523095cf20bddc0a0002c0e289dfbded62fb04a96356232513d46"
   }
  }
 },
 "nbformat": 4,
 "nbformat_minor": 2
}
