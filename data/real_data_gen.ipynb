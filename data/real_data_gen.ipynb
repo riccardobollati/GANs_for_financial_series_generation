{
 "cells": [
  {
   "cell_type": "code",
   "execution_count": 6,
   "metadata": {},
   "outputs": [],
   "source": [
    "import data_preprocessing as data_prep\n",
    "import os\n",
    "from tqdm import tqdm"
   ]
  },
  {
   "cell_type": "markdown",
   "metadata": {},
   "source": [
    "the following code download all the time series and create a folder which contains the windows generated from the time series. The lenght of the windows id the second argument of the \"create_windows_df\" function.\n",
    "\n",
    "!! The model used has been created to generate windows windows with 100 observations. To generate different size series some changes in the model architecture are needed."
   ]
  },
  {
   "cell_type": "code",
   "execution_count": 9,
   "metadata": {},
   "outputs": [
    {
     "name": "stderr",
     "output_type": "stream",
     "text": [
      "100%|██████████| 118/118 [00:11<00:00, 10.43it/s]\n"
     ]
    }
   ],
   "source": [
    "#download data and create the dataset\n",
    "data_prep.get_data('value_st.csv','series')\n",
    "data_prep.create_windows_df('series',100)"
   ]
  },
  {
   "cell_type": "markdown",
   "metadata": {},
   "source": [
    "The following code clean the dataset, to prevent it to contain taime series with different dimension."
   ]
  },
  {
   "cell_type": "code",
   "execution_count": null,
   "metadata": {},
   "outputs": [],
   "source": [
    "#clear the dataset\n",
    "dataset = data_prep.WindowsDaset('data\\dataset_100_winds')\n",
    "file_list = os.listdir('data\\dataset_100_winds')\n",
    "\n",
    "for ind, ser in tqdm(enumerate(dataset)):\n",
    "    if len(ser) != 100:\n",
    "        print(f'error at it {ind}')\n",
    "        os.remove(os.path.join('data\\dataset_100_winds',file_list[ind]))\n",
    "        file_list.pop(ind)"
   ]
  }
 ],
 "metadata": {
  "kernelspec": {
   "display_name": "Python 3.10.6 ('torch_env')",
   "language": "python",
   "name": "python3"
  },
  "language_info": {
   "codemirror_mode": {
    "name": "ipython",
    "version": 3
   },
   "file_extension": ".py",
   "mimetype": "text/x-python",
   "name": "python",
   "nbconvert_exporter": "python",
   "pygments_lexer": "ipython3",
   "version": "3.10.6"
  },
  "orig_nbformat": 4,
  "vscode": {
   "interpreter": {
    "hash": "61b138a6f7f523095cf20bddc0a0002c0e289dfbded62fb04a96356232513d46"
   }
  }
 },
 "nbformat": 4,
 "nbformat_minor": 2
}
