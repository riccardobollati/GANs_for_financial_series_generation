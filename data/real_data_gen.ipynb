{
 "cells": [
  {
   "cell_type": "markdown",
   "metadata": {},
   "source": [
    "# Download and generate the returns data base"
   ]
  },
  {
   "cell_type": "markdown",
   "metadata": {},
   "source": [
    "<h2>Import libraires</h2>"
   ]
  },
  {
   "cell_type": "code",
   "execution_count": 1,
   "metadata": {},
   "outputs": [
    {
     "name": "stderr",
     "output_type": "stream",
     "text": [
      "c:\\Users\\bolla\\miniconda3\\envs\\torch_env\\lib\\site-packages\\tqdm\\auto.py:22: TqdmWarning: IProgress not found. Please update jupyter and ipywidgets. See https://ipywidgets.readthedocs.io/en/stable/user_install.html\n",
      "  from .autonotebook import tqdm as notebook_tqdm\n"
     ]
    }
   ],
   "source": [
    "import data_preprocessing as data_prep\n",
    "import os\n",
    "from tqdm import tqdm"
   ]
  },
  {
   "cell_type": "markdown",
   "metadata": {},
   "source": [
    "<h2>Download the data and create the window dataset</h2>"
   ]
  },
  {
   "cell_type": "markdown",
   "metadata": {},
   "source": [
    "the following code download all the time series of the stocks contained in the csv file passed"
   ]
  },
  {
   "cell_type": "code",
   "execution_count": 2,
   "metadata": {},
   "outputs": [
    {
     "name": "stdout",
     "output_type": "stream",
     "text": [
      "downloading: CI\n",
      "downloading: MPC\n",
      "downloading: VLO\n"
     ]
    },
    {
     "ename": "KeyboardInterrupt",
     "evalue": "",
     "output_type": "error",
     "traceback": [
      "\u001b[1;31m---------------------------------------------------------------------------\u001b[0m",
      "\u001b[1;31mKeyboardInterrupt\u001b[0m                         Traceback (most recent call last)",
      "\u001b[1;32mc:\\Users\\bolla\\Desktop\\CUHK_courses\\IASP_elisa\\final\\data\\real_data_gen.ipynb Cell 6\u001b[0m in \u001b[0;36m<cell line: 4>\u001b[1;34m()\u001b[0m\n\u001b[0;32m      <a href='vscode-notebook-cell:/c%3A/Users/bolla/Desktop/CUHK_courses/IASP_elisa/final/data/real_data_gen.ipynb#W5sZmlsZQ%3D%3D?line=0'>1</a>\u001b[0m \u001b[39m#download data and create the dataset\u001b[39;00m\n\u001b[0;32m      <a href='vscode-notebook-cell:/c%3A/Users/bolla/Desktop/CUHK_courses/IASP_elisa/final/data/real_data_gen.ipynb#W5sZmlsZQ%3D%3D?line=1'>2</a>\u001b[0m \u001b[39m# the first argument is the list that contains all the stocks to download\u001b[39;00m\n\u001b[0;32m      <a href='vscode-notebook-cell:/c%3A/Users/bolla/Desktop/CUHK_courses/IASP_elisa/final/data/real_data_gen.ipynb#W5sZmlsZQ%3D%3D?line=2'>3</a>\u001b[0m \u001b[39m# the second argument is the folder where the function will store the series\u001b[39;00m\n\u001b[1;32m----> <a href='vscode-notebook-cell:/c%3A/Users/bolla/Desktop/CUHK_courses/IASP_elisa/final/data/real_data_gen.ipynb#W5sZmlsZQ%3D%3D?line=3'>4</a>\u001b[0m data_prep\u001b[39m.\u001b[39;49mget_data(\u001b[39m'\u001b[39;49m\u001b[39mvalue_st.csv\u001b[39;49m\u001b[39m'\u001b[39;49m,\u001b[39m'\u001b[39;49m\u001b[39mprova\u001b[39;49m\u001b[39m'\u001b[39;49m)\n",
      "File \u001b[1;32mc:\\Users\\bolla\\Desktop\\CUHK_courses\\IASP_elisa\\final\\data\\data_preprocessing.py:18\u001b[0m, in \u001b[0;36mget_data\u001b[1;34m(tiker_list, destination)\u001b[0m\n\u001b[0;32m     16\u001b[0m i \u001b[39m=\u001b[39m i\u001b[39m.\u001b[39mreplace(\u001b[39m'\u001b[39m\u001b[39m \u001b[39m\u001b[39m'\u001b[39m,\u001b[39m'\u001b[39m\u001b[39m'\u001b[39m)\n\u001b[0;32m     17\u001b[0m \u001b[39mprint\u001b[39m(\u001b[39mf\u001b[39m\u001b[39m'\u001b[39m\u001b[39mdownloading: \u001b[39m\u001b[39m{\u001b[39;00mi\u001b[39m}\u001b[39;00m\u001b[39m'\u001b[39m)\n\u001b[1;32m---> 18\u001b[0m series \u001b[39m=\u001b[39m yf\u001b[39m.\u001b[39;49mdownload(i, progress\u001b[39m=\u001b[39;49m\u001b[39mFalse\u001b[39;49;00m)\n\u001b[0;32m     19\u001b[0m series\u001b[39m.\u001b[39mreset_index(drop\u001b[39m=\u001b[39m\u001b[39mTrue\u001b[39;00m,inplace\u001b[39m=\u001b[39m\u001b[39mTrue\u001b[39;00m)\n\u001b[0;32m     20\u001b[0m series\u001b[39m.\u001b[39miloc[:,\u001b[39m4\u001b[39m]\u001b[39m.\u001b[39mto_csv(\u001b[39mf\u001b[39m\u001b[39m'\u001b[39m\u001b[39m{\u001b[39;00mdestination\u001b[39m}\u001b[39;00m\u001b[39m\\\u001b[39m\u001b[39m{\u001b[39;00mi\u001b[39m}\u001b[39;00m\u001b[39m.csv\u001b[39m\u001b[39m'\u001b[39m,index \u001b[39m=\u001b[39m \u001b[39mFalse\u001b[39;00m)\n",
      "File \u001b[1;32mc:\\Users\\bolla\\miniconda3\\envs\\torch_env\\lib\\site-packages\\yfinance\\multi.py:118\u001b[0m, in \u001b[0;36mdownload\u001b[1;34m(tickers, start, end, actions, threads, ignore_tz, group_by, auto_adjust, back_adjust, keepna, progress, period, show_errors, interval, prepost, proxy, rounding, timeout, **kwargs)\u001b[0m\n\u001b[0;32m    111\u001b[0m         _download_one_threaded(ticker, period\u001b[39m=\u001b[39mperiod, interval\u001b[39m=\u001b[39minterval,\n\u001b[0;32m    112\u001b[0m                                start\u001b[39m=\u001b[39mstart, end\u001b[39m=\u001b[39mend, prepost\u001b[39m=\u001b[39mprepost,\n\u001b[0;32m    113\u001b[0m                                actions\u001b[39m=\u001b[39mactions, auto_adjust\u001b[39m=\u001b[39mauto_adjust,\n\u001b[0;32m    114\u001b[0m                                back_adjust\u001b[39m=\u001b[39mback_adjust, keepna\u001b[39m=\u001b[39mkeepna,\n\u001b[0;32m    115\u001b[0m                                progress\u001b[39m=\u001b[39m(progress \u001b[39mand\u001b[39;00m i \u001b[39m>\u001b[39m \u001b[39m0\u001b[39m), proxy\u001b[39m=\u001b[39mproxy,\n\u001b[0;32m    116\u001b[0m                                rounding\u001b[39m=\u001b[39mrounding, timeout\u001b[39m=\u001b[39mtimeout)\n\u001b[0;32m    117\u001b[0m     \u001b[39mwhile\u001b[39;00m \u001b[39mlen\u001b[39m(shared\u001b[39m.\u001b[39m_DFS) \u001b[39m<\u001b[39m \u001b[39mlen\u001b[39m(tickers):\n\u001b[1;32m--> 118\u001b[0m         _time\u001b[39m.\u001b[39;49msleep(\u001b[39m0.01\u001b[39;49m)\n\u001b[0;32m    120\u001b[0m \u001b[39m# download synchronously\u001b[39;00m\n\u001b[0;32m    121\u001b[0m \u001b[39melse\u001b[39;00m:\n\u001b[0;32m    122\u001b[0m     \u001b[39mfor\u001b[39;00m i, ticker \u001b[39min\u001b[39;00m \u001b[39menumerate\u001b[39m(tickers):\n",
      "\u001b[1;31mKeyboardInterrupt\u001b[0m: "
     ]
    }
   ],
   "source": [
    "#download data and create the dataset\n",
    "# the first argument is the list that contains all the stocks to download\n",
    "# the second argument is the folder where the function will store the series\n",
    "data_prep.get_data('value_st.csv','series')"
   ]
  },
  {
   "cell_type": "markdown",
   "metadata": {},
   "source": [
    "the following code create the dataset of the windows, It can generate both price and returns window."
   ]
  },
  {
   "cell_type": "code",
   "execution_count": 3,
   "metadata": {},
   "outputs": [
    {
     "name": "stderr",
     "output_type": "stream",
     "text": [
      "100%|██████████| 118/118 [00:12<00:00,  9.12it/s]\n"
     ]
    }
   ],
   "source": [
    "data_prep.create_windows_df('series',100, 'dataset_100_winds', get_returns=True)"
   ]
  },
  {
   "cell_type": "markdown",
   "metadata": {},
   "source": [
    "# Clear the dataset "
   ]
  },
  {
   "cell_type": "markdown",
   "metadata": {},
   "source": [
    "The following chunk of code prevent the dataset to contain series with different window lenght then the one chosen.\n",
    "\n",
    "To do it It deletes all the windows with len < chosen window from the selected folder."
   ]
  },
  {
   "cell_type": "code",
   "execution_count": 7,
   "metadata": {},
   "outputs": [
    {
     "name": "stderr",
     "output_type": "stream",
     "text": [
      "4564it [00:30, 150.65it/s]"
     ]
    },
    {
     "name": "stdout",
     "output_type": "stream",
     "text": [
      "error at it 4545\n"
     ]
    },
    {
     "name": "stderr",
     "output_type": "stream",
     "text": [
      "10357it [01:58, 87.59it/s]\n"
     ]
    }
   ],
   "source": [
    "FOLDER = 'dataset_price'\n",
    "#clear the dataset\n",
    "dataset = data_prep.WindowsDaset(FOLDER)\n",
    "file_list = os.listdir(FOLDER)\n",
    "\n",
    "for ind, ser in tqdm(enumerate(dataset)):\n",
    "    if len(ser) != 100:\n",
    "        print(f'error at it {ind}')\n",
    "        os.remove(os.path.join(FOLDER,file_list[ind]))\n",
    "        file_list.pop(ind)"
   ]
  }
 ],
 "metadata": {
  "kernelspec": {
   "display_name": "Python 3.10.6 ('torch_env')",
   "language": "python",
   "name": "python3"
  },
  "language_info": {
   "codemirror_mode": {
    "name": "ipython",
    "version": 3
   },
   "file_extension": ".py",
   "mimetype": "text/x-python",
   "name": "python",
   "nbconvert_exporter": "python",
   "pygments_lexer": "ipython3",
   "version": "3.10.6"
  },
  "orig_nbformat": 4,
  "vscode": {
   "interpreter": {
    "hash": "61b138a6f7f523095cf20bddc0a0002c0e289dfbded62fb04a96356232513d46"
   }
  }
 },
 "nbformat": 4,
 "nbformat_minor": 2
}
