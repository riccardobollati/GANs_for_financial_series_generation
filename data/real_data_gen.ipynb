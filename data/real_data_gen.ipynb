{
 "cells": [
  {
   "cell_type": "code",
   "execution_count": 2,
   "metadata": {},
   "outputs": [
    {
     "name": "stderr",
     "output_type": "stream",
     "text": [
      "c:\\Users\\bolla\\miniconda3\\envs\\torch_env\\lib\\site-packages\\tqdm\\auto.py:22: TqdmWarning: IProgress not found. Please update jupyter and ipywidgets. See https://ipywidgets.readthedocs.io/en/stable/user_install.html\n",
      "  from .autonotebook import tqdm as notebook_tqdm\n"
     ]
    }
   ],
   "source": [
    "import data_preprocessing as data_prep\n",
    "import os\n",
    "from tqdm import tqdm"
   ]
  },
  {
   "cell_type": "markdown",
   "metadata": {},
   "source": [
    "the following code download all the time series and create a folder which contains the windows generated from the time series. The lenght of the windows id the second argument of the \"create_windows_df\" function.\n",
    "\n",
    "!! The model used has been created to generate windows windows with 100 observations. To generate different size series some changes in the model architecture are needed."
   ]
  },
  {
   "cell_type": "code",
   "execution_count": 4,
   "metadata": {},
   "outputs": [
    {
     "name": "stderr",
     "output_type": "stream",
     "text": [
      "100%|██████████| 118/118 [00:19<00:00,  6.01it/s]\n"
     ]
    }
   ],
   "source": [
    "#download data and create the dataset\n",
    "#data_prep.get_data('few_value.csv','series_value')\n",
    "data_prep.create_windows_df('series',100, 'dataset_price')"
   ]
  },
  {
   "cell_type": "markdown",
   "metadata": {},
   "source": [
    "The following code clean the dataset, to prevent it to contain taime series with different dimension."
   ]
  },
  {
   "cell_type": "code",
   "execution_count": 7,
   "metadata": {},
   "outputs": [
    {
     "name": "stderr",
     "output_type": "stream",
     "text": [
      "4564it [00:30, 150.65it/s]"
     ]
    },
    {
     "name": "stdout",
     "output_type": "stream",
     "text": [
      "error at it 4545\n"
     ]
    },
    {
     "name": "stderr",
     "output_type": "stream",
     "text": [
      "10357it [01:58, 87.59it/s]\n"
     ]
    }
   ],
   "source": [
    "FOLDER = 'dataset_price'\n",
    "#clear the dataset\n",
    "dataset = data_prep.WindowsDaset(FOLDER)\n",
    "file_list = os.listdir(FOLDER)\n",
    "\n",
    "for ind, ser in tqdm(enumerate(dataset)):\n",
    "    if len(ser) != 100:\n",
    "        print(f'error at it {ind}')\n",
    "        os.remove(os.path.join(FOLDER,file_list[ind]))\n",
    "        file_list.pop(ind)"
   ]
  }
 ],
 "metadata": {
  "kernelspec": {
   "display_name": "Python 3.10.6 ('torch_env')",
   "language": "python",
   "name": "python3"
  },
  "language_info": {
   "codemirror_mode": {
    "name": "ipython",
    "version": 3
   },
   "file_extension": ".py",
   "mimetype": "text/x-python",
   "name": "python",
   "nbconvert_exporter": "python",
   "pygments_lexer": "ipython3",
   "version": "3.10.6"
  },
  "orig_nbformat": 4,
  "vscode": {
   "interpreter": {
    "hash": "61b138a6f7f523095cf20bddc0a0002c0e289dfbded62fb04a96356232513d46"
   }
  }
 },
 "nbformat": 4,
 "nbformat_minor": 2
}
